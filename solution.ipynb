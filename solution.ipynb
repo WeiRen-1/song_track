{
 "cells": [
  {
   "cell_type": "code",
   "execution_count": 13,
   "id": "3d78eeee-f476-4549-ba65-d38d0012b961",
   "metadata": {},
   "outputs": [
    {
     "data": {
      "text/html": [
       "\n",
       "            <div>\n",
       "                <p><b>SparkSession - in-memory</b></p>\n",
       "                \n",
       "        <div>\n",
       "            <p><b>SparkContext</b></p>\n",
       "\n",
       "            <p><a href=\"http://host.docker.internal:4041\">Spark UI</a></p>\n",
       "\n",
       "            <dl>\n",
       "              <dt>Version</dt>\n",
       "                <dd><code>v3.2.1</code></dd>\n",
       "              <dt>Master</dt>\n",
       "                <dd><code>local[*]</code></dd>\n",
       "              <dt>AppName</dt>\n",
       "                <dd><code>demo</code></dd>\n",
       "            </dl>\n",
       "        </div>\n",
       "        \n",
       "            </div>\n",
       "        "
      ],
      "text/plain": [
       "<pyspark.sql.session.SparkSession at 0x217ffe177f0>"
      ]
     },
     "execution_count": 13,
     "metadata": {},
     "output_type": "execute_result"
    }
   ],
   "source": [
    "import pyspark\n",
    "from pyspark.sql import SparkSession\n",
    "from pyspark.sql.functions import *\n",
    "from pyspark.sql.window import Window\n",
    "\n",
    "spark=SparkSession.builder.appName('demo').getOrCreate()\n",
    "spark"
   ]
  },
  {
   "cell_type": "markdown",
   "id": "c18f6d94-1bbe-4c25-bff3-d2db78523a8e",
   "metadata": {},
   "source": [
    "### read the user_id data"
   ]
  },
  {
   "cell_type": "code",
   "execution_count": 6,
   "id": "d792b9f4-cf77-4b9e-8322-40599c097bfd",
   "metadata": {},
   "outputs": [
    {
     "name": "stdout",
     "output_type": "stream",
     "text": [
      "+-----------+------+----+------------------+------------+\n",
      "|        #id|gender| age|           country|  registered|\n",
      "+-----------+------+----+------------------+------------+\n",
      "|user_000001|     m|null|             Japan|Aug 13, 2006|\n",
      "|user_000002|     f|null|              Peru|Feb 24, 2006|\n",
      "|user_000003|     m|  22|     United States|Oct 30, 2005|\n",
      "|user_000004|     f|null|              null|Apr 26, 2006|\n",
      "|user_000005|     m|null|          Bulgaria|Jun 29, 2006|\n",
      "|user_000006|  null|  24|Russian Federation|May 18, 2006|\n",
      "|user_000007|     f|null|     United States|Jan 22, 2006|\n",
      "|user_000008|     m|  23|          Slovakia|Sep 28, 2006|\n",
      "|user_000009|     f|  19|     United States|Jan 13, 2007|\n",
      "|user_000010|     m|  19|            Poland| May 4, 2006|\n",
      "|user_000011|     m|  21|           Finland| Sep 8, 2005|\n",
      "|user_000012|     f|  28|     United States|Mar 30, 2005|\n",
      "|user_000013|     f|  25|           Romania|Sep 25, 2006|\n",
      "|user_000014|  null|null|              null|Jan 27, 2006|\n",
      "|user_000015|  null|  21|     Cote D'Ivoire| Oct 3, 2006|\n",
      "|user_000016|     m|null|    United Kingdom| Aug 5, 2005|\n",
      "|user_000017|     m|  22|           Morocco|Aug 27, 2007|\n",
      "|user_000018|  null|  22|    United Kingdom|Aug 26, 2005|\n",
      "|user_000019|     f|  29|            Mexico|Nov 10, 2005|\n",
      "|user_000020|     f|  27|           Germany|Jul 24, 2006|\n",
      "+-----------+------+----+------------------+------------+\n",
      "only showing top 20 rows\n",
      "\n"
     ]
    }
   ],
   "source": [
    "df_user = spark.read.csv('userid-profile.tsv',sep='\\t', header=True)\n",
    "df_user.show()"
   ]
  },
  {
   "cell_type": "markdown",
   "id": "d9399fcf-b96d-420a-acde-5fc6e17494ec",
   "metadata": {},
   "source": [
    "### read user_song track data"
   ]
  },
  {
   "cell_type": "code",
   "execution_count": 4,
   "id": "56fa5622-2439-41e5-a009-7fc189c7e929",
   "metadata": {},
   "outputs": [
    {
     "name": "stdout",
     "output_type": "stream",
     "text": [
      "+-----------+--------------------+--------------------+---------------+--------------------+--------------------+\n",
      "|        _c0|                 _c1|                 _c2|            _c3|                 _c4|                 _c5|\n",
      "+-----------+--------------------+--------------------+---------------+--------------------+--------------------+\n",
      "|user_000001|2009-05-04T23:08:57Z|f1b1cf71-bd35-4e9...|      Deep Dish|                null|Fuck Me Im Famous...|\n",
      "|user_000001|2009-05-04T13:54:10Z|a7f7df4a-77d8-4f1...|       坂本龍一|                null|Composition 0919 ...|\n",
      "|user_000001|2009-05-04T13:52:04Z|a7f7df4a-77d8-4f1...|       坂本龍一|                null|Mc2 (Live_2009_4_15)|\n",
      "|user_000001|2009-05-04T13:42:52Z|a7f7df4a-77d8-4f1...|       坂本龍一|                null|Hibari (Live_2009...|\n",
      "|user_000001|2009-05-04T13:42:11Z|a7f7df4a-77d8-4f1...|       坂本龍一|                null|Mc1 (Live_2009_4_15)|\n",
      "|user_000001|2009-05-04T13:38:31Z|a7f7df4a-77d8-4f1...|       坂本龍一|                null|To Stanford (Live...|\n",
      "|user_000001|2009-05-04T13:33:28Z|a7f7df4a-77d8-4f1...|       坂本龍一|                null|Improvisation (Li...|\n",
      "|user_000001|2009-05-04T13:23:45Z|a7f7df4a-77d8-4f1...|       坂本龍一|                null|Glacier (Live_200...|\n",
      "|user_000001|2009-05-04T13:19:22Z|a7f7df4a-77d8-4f1...|       坂本龍一|                null|Parolibre (Live_2...|\n",
      "|user_000001|2009-05-04T13:13:38Z|a7f7df4a-77d8-4f1...|       坂本龍一|                null|Bibo No Aozora (L...|\n",
      "|user_000001|2009-05-04T13:06:09Z|a7f7df4a-77d8-4f1...|       坂本龍一|f7c1f8f8-b935-45e...|The Last Emperor ...|\n",
      "|user_000001|2009-05-04T13:00:48Z|a7f7df4a-77d8-4f1...|       坂本龍一|                null|Happyend (Live_20...|\n",
      "|user_000001|2009-05-04T12:55:34Z|a7f7df4a-77d8-4f1...|       坂本龍一|475d4e50-cebb-4cd...|Tibetan Dance (Ve...|\n",
      "|user_000001|2009-05-04T12:51:26Z|a7f7df4a-77d8-4f1...|       坂本龍一|                null|Behind The Mask (...|\n",
      "|user_000001|2009-05-03T15:48:25Z|ba2f4f3b-0293-4bc...|     Underworld|dc394163-2b78-4b5...|Boy, Boy, Boy (Sw...|\n",
      "|user_000001|2009-05-03T15:37:56Z|ba2f4f3b-0293-4bc...|     Underworld|340d9a0b-9a43-409...|Crocodile (Innerv...|\n",
      "|user_000001|2009-05-03T15:14:53Z|a16e47f5-aa54-47f...|Ennio Morricone|0b04407b-f517-4e0...|Ninna Nanna In Bl...|\n",
      "|user_000001|2009-05-03T15:10:18Z|463a94f1-2713-40b...|        Minus 8|4e78efc4-e545-47a...|      Elysian Fields|\n",
      "|user_000001|2009-05-03T15:04:31Z|ad0811ea-e213-451...|      Beanfield|fb51d2c4-cc69-412...|  Planetary Deadlock|\n",
      "|user_000001|2009-05-03T14:56:25Z|309e2dfc-678e-4d0...|       Dj Linus|4277434f-e3c2-41a...|Good Morning Love...|\n",
      "+-----------+--------------------+--------------------+---------------+--------------------+--------------------+\n",
      "only showing top 20 rows\n",
      "\n"
     ]
    }
   ],
   "source": [
    "df_track = spark.read.csv('userid-timestamp-artid-artname-traid-traname.tsv',sep='\\t',header=None)\n",
    "df_track.show()"
   ]
  },
  {
   "cell_type": "markdown",
   "id": "251e2017-2bad-4072-8938-d5e5bf07c921",
   "metadata": {},
   "source": [
    "### check the count and schema"
   ]
  },
  {
   "cell_type": "code",
   "execution_count": 10,
   "id": "e827e583-a930-4614-acd2-ed5b4ae197a0",
   "metadata": {},
   "outputs": [
    {
     "name": "stdout",
     "output_type": "stream",
     "text": [
      "The number of users: 992\n"
     ]
    }
   ],
   "source": [
    "# the numner of users\n",
    "print(f\"The number of users: {df_user.distinct().count()}\")"
   ]
  },
  {
   "cell_type": "code",
   "execution_count": 11,
   "id": "4c39d3a5-5454-4206-a76f-2c1f6faff026",
   "metadata": {},
   "outputs": [
    {
     "name": "stdout",
     "output_type": "stream",
     "text": [
      "There are 19150868 rows in the track.\n"
     ]
    }
   ],
   "source": [
    "# the row numbers in userid-timestamp-artid-artname-traid-traname.tsv\n",
    "print(f\"There are {df_track.count()} rows in the track.\")"
   ]
  },
  {
   "cell_type": "code",
   "execution_count": 12,
   "id": "02eeb637-77ee-4a24-9e61-a89ecc494d51",
   "metadata": {},
   "outputs": [
    {
     "name": "stdout",
     "output_type": "stream",
     "text": [
      "root\n",
      " |-- _c0: string (nullable = true)\n",
      " |-- _c1: string (nullable = true)\n",
      " |-- _c2: string (nullable = true)\n",
      " |-- _c3: string (nullable = true)\n",
      " |-- _c4: string (nullable = true)\n",
      " |-- _c5: string (nullable = true)\n",
      "\n"
     ]
    }
   ],
   "source": [
    "# schema\n",
    "df_track.printSchema()"
   ]
  },
  {
   "cell_type": "markdown",
   "id": "4e9face8-df07-4952-b72c-ed339935084c",
   "metadata": {},
   "source": [
    "### find top 50 longest sessions, where song interval < 20 minutes"
   ]
  },
  {
   "cell_type": "markdown",
   "id": "704f42a9-0cef-4b70-8c96-c487be6fd0e5",
   "metadata": {},
   "source": [
    "#### 1. convert timestamp from string to timestamp"
   ]
  },
  {
   "cell_type": "code",
   "execution_count": 17,
   "id": "932c18ff-ea3d-4030-a06a-cd0d8ed4d58e",
   "metadata": {},
   "outputs": [],
   "source": [
    "df_track= df_track.select('_c0', to_timestamp(df_track._c1).alias('_c1'), '_c2','_c3','_c4','_c5').sort(\"_c0\", \"_c1\")"
   ]
  },
  {
   "cell_type": "markdown",
   "id": "2ec34c08-769c-496a-bcf3-2dd8fe9a7a17",
   "metadata": {},
   "source": [
    "#### 2. check the time_interval between sequencial track, groupby user_id"
   ]
  },
  {
   "cell_type": "code",
   "execution_count": 19,
   "id": "74350c31-3500-446f-bcd1-e2880f484c46",
   "metadata": {},
   "outputs": [],
   "source": [
    "df_track = df_track.withColumn(\n",
    "        \"time_interval_sec\", df_track._c1.cast(\"bigint\") - lag(df_track._c1, 1).over(Window.partitionBy(\"_c0\").orderBy(col(\"_c1\"))).cast(\"bigint\")  )"
   ]
  },
  {
   "cell_type": "code",
   "execution_count": 20,
   "id": "a05c6ca5-4855-467c-ac5b-94e2b1e82e60",
   "metadata": {},
   "outputs": [
    {
     "name": "stdout",
     "output_type": "stream",
     "text": [
      "+-----------+-------------------+--------------------+--------------------+--------------------+--------------------+-----------------+\n",
      "|        _c0|                _c1|                 _c2|                 _c3|                 _c4|                 _c5|time_interval_sec|\n",
      "+-----------+-------------------+--------------------+--------------------+--------------------+--------------------+-----------------+\n",
      "|user_000034|2005-09-16 00:01:31|2feb192c-2363-46d...|    The Afghan Whigs|                null|How Soon Is Now (...|             null|\n",
      "|user_000034|2005-09-16 00:05:03|fe3503fb-146f-4d6...|    Afrika Bambaataa|8e025002-e43c-41d...|Zulu Nation Throw...|              212|\n",
      "|user_000034|2005-09-16 00:18:12|fe3503fb-146f-4d6...|    Afrika Bambaataa|d081e710-a4cf-43d...|Jazzy Sensation (...|              789|\n",
      "|user_000034|2005-09-16 00:27:51|fe3503fb-146f-4d6...|    Afrika Bambaataa|19f25ddb-77f7-448...|         Planet Rock|              579|\n",
      "|user_000034|2005-09-16 16:30:04|db612997-f11e-424...|Asian Dub Foundation|65699429-f33b-4fa...|          Memory War|            57733|\n",
      "|user_000034|2005-09-16 16:33:27|db612997-f11e-424...|Asian Dub Foundation|e2c3ed94-97fb-486...|          Officer Xx|              203|\n",
      "|user_000034|2005-09-16 16:37:03|db612997-f11e-424...|Asian Dub Foundation|745b8bb1-e3b0-4b1...|   New Way, New Life|              216|\n",
      "|user_000034|2005-09-16 16:41:59|db612997-f11e-424...|Asian Dub Foundation|f0d08ee6-caa2-42e...|       Riddim I Like|              296|\n",
      "|user_000034|2005-09-16 16:46:18|db612997-f11e-424...|Asian Dub Foundation|e2c133e6-712d-45b...|     Collective Mode|              259|\n",
      "|user_000034|2005-09-16 16:50:09|db612997-f11e-424...|Asian Dub Foundation|e22ee971-59ba-406...|               Crash|              231|\n",
      "|user_000034|2005-09-16 16:55:30|db612997-f11e-424...|Asian Dub Foundation|054d2ea0-5e79-463...|         Colour Line|              321|\n",
      "|user_000034|2005-09-16 16:59:27|db612997-f11e-424...|Asian Dub Foundation|b827c90f-dc5a-459...|            Taa Deem|              237|\n",
      "|user_000034|2005-09-16 17:04:08|db612997-f11e-424...|Asian Dub Foundation|6ac35358-05dd-494...|       The Judgement|              281|\n",
      "|user_000034|2005-09-16 17:08:17|db612997-f11e-424...|Asian Dub Foundation|672396a0-e474-461...|         Truth Hides|              249|\n",
      "|user_000034|2005-09-16 17:16:34|db612997-f11e-424...|Asian Dub Foundation|d97174c6-dd10-43e...|       Rebel Warrior|              497|\n",
      "|user_000034|2005-09-16 17:22:52|db612997-f11e-424...|Asian Dub Foundation|669e2cfd-b787-4fb...|   Committed To Life|              378|\n",
      "|user_000034|2005-09-16 17:27:31|db612997-f11e-424...|Asian Dub Foundation|c95288fd-8864-43a...| Scaling New Heights|              279|\n",
      "|user_000034|2005-09-16 17:32:49|2c916f95-f6ba-46f...|  The Fiery Furnaces|2b998231-bb49-4a0...|South Is Only A Home|              318|\n",
      "|user_000034|2005-09-16 17:35:18|2c916f95-f6ba-46f...|  The Fiery Furnaces|648f48b9-6d95-4c2...|       I'M Gonna Run|              149|\n",
      "|user_000034|2005-09-16 17:38:13|2c916f95-f6ba-46f...|  The Fiery Furnaces|582664ad-e1b7-47b...|        Leaky Tunnel|              175|\n",
      "+-----------+-------------------+--------------------+--------------------+--------------------+--------------------+-----------------+\n",
      "only showing top 20 rows\n",
      "\n"
     ]
    }
   ],
   "source": [
    "df_track.show()"
   ]
  },
  {
   "cell_type": "code",
   "execution_count": 21,
   "id": "fc361ede-bc86-430a-83fb-e2bf18db84c4",
   "metadata": {},
   "outputs": [
    {
     "data": {
      "text/plain": [
       "992"
      ]
     },
     "execution_count": 21,
     "metadata": {},
     "output_type": "execute_result"
    }
   ],
   "source": [
    "# check nulls in 'time_interval_sec', agree with the number of users\n",
    "# since the time_interval_sec of first record of each user is always null.\n",
    "df_track.filter((df_track['time_interval_sec'].isNull())).count()"
   ]
  },
  {
   "cell_type": "markdown",
   "id": "ba0f76a2-9089-4477-8ae4-3a208caeb44a",
   "metadata": {},
   "source": [
    "#### 3. define \"session\" where time_interval_sec < 20min (1200 seconds)\n",
    "##### sessions 0: within the same session of previous song\n",
    "##### sessions 1: start a new session, > 20 mins"
   ]
  },
  {
   "cell_type": "code",
   "execution_count": 23,
   "id": "0a0f6b7a-2645-4dbc-bd36-0e71b963c038",
   "metadata": {},
   "outputs": [],
   "source": [
    "df_track = df_track.withColumn(\"sessions\", when( (df_track['time_interval_sec']>1200) | (df_track['time_interval_sec']==None) , 1).otherwise(0))"
   ]
  },
  {
   "cell_type": "markdown",
   "id": "604cc7bc-709a-4217-a484-4c8d4b1de010",
   "metadata": {},
   "source": [
    "#### 3.1 \"session_id\": cumulative sum of session\n",
    "##### e.g., 1,2,3,4...n\n"
   ]
  },
  {
   "cell_type": "code",
   "execution_count": 25,
   "id": "1d92bc59-10a3-44de-8777-6f8b31d8d40c",
   "metadata": {},
   "outputs": [],
   "source": [
    "df_track = df_track.withColumn('session_id', sum(df_track.sessions).over(Window.partitionBy('_c0').orderBy().rowsBetween(-sys.maxsize, 0)))"
   ]
  },
  {
   "cell_type": "code",
   "execution_count": 26,
   "id": "43cc849f-2c43-4e54-8664-6e5dfa49bb7a",
   "metadata": {},
   "outputs": [
    {
     "name": "stdout",
     "output_type": "stream",
     "text": [
      "+-----------+-------------------+--------------------+--------------------+--------------------+--------------------+-----------------+--------+----------+\n",
      "|        _c0|                _c1|                 _c2|                 _c3|                 _c4|                 _c5|time_interval_sec|sessions|session_id|\n",
      "+-----------+-------------------+--------------------+--------------------+--------------------+--------------------+-----------------+--------+----------+\n",
      "|user_000034|2005-09-16 00:01:31|2feb192c-2363-46d...|    The Afghan Whigs|                null|How Soon Is Now (...|             null|       0|         0|\n",
      "|user_000034|2005-09-16 00:05:03|fe3503fb-146f-4d6...|    Afrika Bambaataa|8e025002-e43c-41d...|Zulu Nation Throw...|              212|       0|         0|\n",
      "|user_000034|2005-09-16 00:18:12|fe3503fb-146f-4d6...|    Afrika Bambaataa|d081e710-a4cf-43d...|Jazzy Sensation (...|              789|       0|         0|\n",
      "|user_000034|2005-09-16 00:27:51|fe3503fb-146f-4d6...|    Afrika Bambaataa|19f25ddb-77f7-448...|         Planet Rock|              579|       0|         0|\n",
      "|user_000034|2005-09-16 16:30:04|db612997-f11e-424...|Asian Dub Foundation|65699429-f33b-4fa...|          Memory War|            57733|       1|         1|\n",
      "|user_000034|2005-09-16 16:33:27|db612997-f11e-424...|Asian Dub Foundation|e2c3ed94-97fb-486...|          Officer Xx|              203|       0|         1|\n",
      "|user_000034|2005-09-16 16:37:03|db612997-f11e-424...|Asian Dub Foundation|745b8bb1-e3b0-4b1...|   New Way, New Life|              216|       0|         1|\n",
      "|user_000034|2005-09-16 16:41:59|db612997-f11e-424...|Asian Dub Foundation|f0d08ee6-caa2-42e...|       Riddim I Like|              296|       0|         1|\n",
      "|user_000034|2005-09-16 16:46:18|db612997-f11e-424...|Asian Dub Foundation|e2c133e6-712d-45b...|     Collective Mode|              259|       0|         1|\n",
      "|user_000034|2005-09-16 16:50:09|db612997-f11e-424...|Asian Dub Foundation|e22ee971-59ba-406...|               Crash|              231|       0|         1|\n",
      "|user_000034|2005-09-16 16:55:30|db612997-f11e-424...|Asian Dub Foundation|054d2ea0-5e79-463...|         Colour Line|              321|       0|         1|\n",
      "|user_000034|2005-09-16 16:59:27|db612997-f11e-424...|Asian Dub Foundation|b827c90f-dc5a-459...|            Taa Deem|              237|       0|         1|\n",
      "|user_000034|2005-09-16 17:04:08|db612997-f11e-424...|Asian Dub Foundation|6ac35358-05dd-494...|       The Judgement|              281|       0|         1|\n",
      "|user_000034|2005-09-16 17:08:17|db612997-f11e-424...|Asian Dub Foundation|672396a0-e474-461...|         Truth Hides|              249|       0|         1|\n",
      "|user_000034|2005-09-16 17:16:34|db612997-f11e-424...|Asian Dub Foundation|d97174c6-dd10-43e...|       Rebel Warrior|              497|       0|         1|\n",
      "|user_000034|2005-09-16 17:22:52|db612997-f11e-424...|Asian Dub Foundation|669e2cfd-b787-4fb...|   Committed To Life|              378|       0|         1|\n",
      "|user_000034|2005-09-16 17:27:31|db612997-f11e-424...|Asian Dub Foundation|c95288fd-8864-43a...| Scaling New Heights|              279|       0|         1|\n",
      "|user_000034|2005-09-16 17:32:49|2c916f95-f6ba-46f...|  The Fiery Furnaces|2b998231-bb49-4a0...|South Is Only A Home|              318|       0|         1|\n",
      "|user_000034|2005-09-16 17:35:18|2c916f95-f6ba-46f...|  The Fiery Furnaces|648f48b9-6d95-4c2...|       I'M Gonna Run|              149|       0|         1|\n",
      "|user_000034|2005-09-16 17:38:13|2c916f95-f6ba-46f...|  The Fiery Furnaces|582664ad-e1b7-47b...|        Leaky Tunnel|              175|       0|         1|\n",
      "+-----------+-------------------+--------------------+--------------------+--------------------+--------------------+-----------------+--------+----------+\n",
      "only showing top 20 rows\n",
      "\n"
     ]
    }
   ],
   "source": [
    "df_track.show()"
   ]
  },
  {
   "cell_type": "markdown",
   "id": "128bd295-1ba4-4f24-a3d8-ad7f03dd45bf",
   "metadata": {},
   "source": [
    "#### 4. Count the frequency of each session_id, groupby by user_id, find top 50 longest sessions\n",
    "##### the freqency presents number of songs in each session_id"
   ]
  },
  {
   "cell_type": "code",
   "execution_count": 29,
   "id": "00d8487d-2234-4dcc-8e0c-1d7dbf7a601c",
   "metadata": {},
   "outputs": [
    {
     "name": "stdout",
     "output_type": "stream",
     "text": [
      "+-----------+----------+-----+\n",
      "|        _c0|session_id|count|\n",
      "+-----------+----------+-----+\n",
      "|user_000949|       150| 5360|\n",
      "|user_000544|        74| 5350|\n",
      "|user_000949|       138| 4956|\n",
      "|user_000949|       558| 4705|\n",
      "|user_000997|        17| 4357|\n",
      "|user_000544|        55| 3809|\n",
      "|user_000544|        54| 3651|\n",
      "|user_000949|       124| 3077|\n",
      "|user_000262|      1119| 2862|\n",
      "|user_000949|       188| 2834|\n",
      "|user_000554|       545| 2701|\n",
      "|user_000949|       151| 2652|\n",
      "|user_000949|       147| 2643|\n",
      "|user_000250|      1284| 2600|\n",
      "|user_000949|       148| 2541|\n",
      "|user_000544|        69| 2541|\n",
      "|user_000949|       707| 2436|\n",
      "|user_000008|       235| 2435|\n",
      "|user_000974|         5| 2423|\n",
      "|user_000008|       116| 2394|\n",
      "+-----------+----------+-----+\n",
      "only showing top 20 rows\n",
      "\n"
     ]
    }
   ],
   "source": [
    "df_track_count = df_track.groupBy('_c0','session_id').count().orderBy('count',ascending=False)\n",
    "df_track_count50 = df_track_count.limit(50)\n",
    "df_track_count50.show()"
   ]
  },
  {
   "cell_type": "markdown",
   "id": "0033e86e-ef0d-4578-a948-a09b171db74d",
   "metadata": {},
   "source": [
    "#### 5. filter df_track, such that it only contain rows that are in top 50 longest session: df_track_count50"
   ]
  },
  {
   "cell_type": "code",
   "execution_count": 31,
   "id": "cd557dd5-bfbc-4461-9078-e59175edec00",
   "metadata": {},
   "outputs": [],
   "source": [
    "df_join = df_track.join(df_track_count50, ['_c0', 'session_id'], 'leftsemi')"
   ]
  },
  {
   "cell_type": "markdown",
   "id": "d5c13e07-8fe5-4134-83ff-3bbfb8bfe7da",
   "metadata": {},
   "source": [
    "##### test does the join make sense:"
   ]
  },
  {
   "cell_type": "code",
   "execution_count": 35,
   "id": "e2476033-c196-475d-84e7-48721cad0ca9",
   "metadata": {},
   "outputs": [
    {
     "name": "stdout",
     "output_type": "stream",
     "text": [
      "test 1: when user_000949 and session_id==150, it should contain 5360 rows\n",
      "5360\n",
      "test 2: the length of df_join should equal to df_track_count50.count.sum()\n",
      "test 2: length of df_join: 129813; df_track_count50.count.sum(): 129813\n"
     ]
    }
   ],
   "source": [
    "print(\"test 1: when user_000949 and session_id==150, it should contain 5360 rows\")\n",
    "print(df_join.filter(( (df_join['_c0'] == 'user_000949') & (df_join['session_id'] == 150 ))).count())\n",
    "print(\"test 2: the length of df_join should equal to df_track_count50.count.sum()\")\n",
    "print(f\"test 2: length of df_join: {df_join.count()}; df_track_count50.count.sum(): {df_track_count50.groupBy().sum('count').collect()[0][0]}\")"
   ]
  },
  {
   "cell_type": "markdown",
   "id": "01a6f011-c7b5-4217-8855-0af3a890f250",
   "metadata": {},
   "source": [
    "#### 6. find the top 10 songs that in the filtered (top 50 longest session) df_track"
   ]
  },
  {
   "cell_type": "code",
   "execution_count": 36,
   "id": "fd0565d6-fe24-4b1a-b51f-6544d9529444",
   "metadata": {},
   "outputs": [
    {
     "name": "stdout",
     "output_type": "stream",
     "text": [
      "+--------------------+--------------------+-----+\n",
      "|                 _c4|                 _c5|count|\n",
      "+--------------------+--------------------+-----+\n",
      "|60f0bfa4-8da9-484...|              Jolene| 1214|\n",
      "|db4c9220-df76-4b4...|          Heartbeats|  868|\n",
      "|c2b14074-15d6-40c...|How Long Will It ...|  726|\n",
      "|91951530-d978-464...|Anthems For A Sev...|  659|\n",
      "|45c773c3-c8f0-41a...|     St. Ides Heaven|  646|\n",
      "|                null|         Bonus Track|  644|\n",
      "|b649b4ba-4912-4ad...|Starin' Through M...|  617|\n",
      "|55956d3e-c5d4-433...|     Beast Of Burden|  613|\n",
      "|9ad11ca6-c5b9-4a2...|           The Swing|  604|\n",
      "|82558949-cd98-4c5...|See You In My Nig...|  536|\n",
      "|03bd74d1-e7f9-471...|        Say You Will|  535|\n",
      "|986077d0-162b-43b...|           Heartless|  532|\n",
      "|20327ab0-f6c6-440...|Amazing (Feat. Yo...|  530|\n",
      "|4c498872-70d2-4b0...|      Coldest Winter|  530|\n",
      "|153d8ca0-dc23-454...|       Love Lockdown|  529|\n",
      "|cc086205-4e55-474...|Welcome To Heartb...|  526|\n",
      "|b08d2a9c-17ec-4d3...|Paranoid (Feat. M...|  526|\n",
      "|87129015-6dc5-4cf...|Pinocchio Story (...|  526|\n",
      "|1818fc80-7c01-4dd...|            Bad News|  522|\n",
      "|4ad08552-6c35-49e...| When You Were Young|  520|\n",
      "+--------------------+--------------------+-----+\n",
      "only showing top 20 rows\n",
      "\n"
     ]
    }
   ],
   "source": [
    "df_join_count = df_join.groupBy('_c4','_c5').count().orderBy('count',ascending=False)\n",
    "df_join_count.show()"
   ]
  },
  {
   "cell_type": "markdown",
   "id": "8332f15b-7460-4c9d-85cc-5ca869654741",
   "metadata": {},
   "source": [
    "#### save the top 10 songs into csv file"
   ]
  },
  {
   "cell_type": "code",
   "execution_count": 37,
   "id": "c5cf8b5c-5005-4319-b37b-c1986ae88caa",
   "metadata": {},
   "outputs": [],
   "source": [
    "df_join_count.limit(10).toPandas().to_csv('top10_songs.csv')"
   ]
  },
  {
   "cell_type": "code",
   "execution_count": null,
   "id": "f26a1f88-1332-452e-b295-6fd49c994e48",
   "metadata": {},
   "outputs": [],
   "source": []
  }
 ],
 "metadata": {
  "kernelspec": {
   "display_name": "Python 3",
   "language": "python",
   "name": "python3"
  },
  "language_info": {
   "codemirror_mode": {
    "name": "ipython",
    "version": 3
   },
   "file_extension": ".py",
   "mimetype": "text/x-python",
   "name": "python",
   "nbconvert_exporter": "python",
   "pygments_lexer": "ipython3",
   "version": "3.8.5"
  }
 },
 "nbformat": 4,
 "nbformat_minor": 5
}
